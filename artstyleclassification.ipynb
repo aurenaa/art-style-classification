{
  "cells": [
    {
      "cell_type": "markdown",
      "metadata": {},
      "source": [
        "# 🎨 Multimodalna klasifikacija umetničkih stilova"
      ]
    },
    {
      "cell_type": "markdown",
      "metadata": {},
      "source": [
        "Cilj ovog projekta je klasifikacija umetničkih slika prema stilu pomoću **konvolucionih neuronskih mreža (CNN)** i **multimodalnog pristupa** koji kombinuje slike i metapodatke (umetnik, godina, žanr).\n"
      ]
    },
    {
      "cell_type": "code",
      "execution_count": null,
      "metadata": {
        "vscode": {
          "languageId": "plaintext"
        }
      },
      "outputs": [],
      "source": []
    }
  ],
  "metadata": {
    "accelerator": "GPU",
    "colab": {
      "gpuType": "T4",
      "provenance": []
    },
    "kernelspec": {
      "display_name": "base",
      "language": "python",
      "name": "python3"
    },
    "language_info": {
      "codemirror_mode": {
        "name": "ipython",
        "version": 3
      },
      "file_extension": ".py",
      "mimetype": "text/x-python",
      "name": "python",
      "nbconvert_exporter": "python",
      "pygments_lexer": "ipython3",
      "version": "3.10.12"
    }
  },
  "nbformat": 4,
  "nbformat_minor": 0
}
