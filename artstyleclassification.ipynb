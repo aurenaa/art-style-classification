{
  "cells": [
    {
      "cell_type": "markdown",
      "metadata": {},
      "source": [
        "# 🎨 Multimodalna klasifikacija umetničkih stilova"
      ]
    },
    {
      "cell_type": "code",
      "execution_count": null,
      "metadata": {},
      "outputs": [],
      "source": [
        "%pip install pandas numpy opencv-python tensorflow scikit-learn datasets matplotlib seaborn tabulate"
      ]
    },
    {
      "cell_type": "markdown",
      "metadata": {},
      "source": [
        "Cilj ovog projekta je klasifikacija umetničkih slika prema stilu pomoću **konvolucionih neuronskih mreža (CNN)** i **multimodalnog pristupa** koji kombinuje slike i metapodatke (umetnik, godina, žanr).\n"
      ]
    },
    {
      "cell_type": "code",
      "execution_count": null,
      "metadata": {},
      "outputs": [],
      "source": [
        "\n",
        "import numpy as np\n",
        "import pandas as pd\n",
        "import cv2\n",
        "import tensorflow as tf\n",
        "from tensorflow.keras.models import Model\n",
        "from tensorflow.keras.layers import Input, Dense, Flatten, Dropout, Concatenate, Conv2D, MaxPooling2D\n",
        "from tensorflow.keras.utils import to_categorical\n",
        "from tensorflow.keras.callbacks import EarlyStopping\n",
        "from tensorflow.keras.preprocessing.image import ImageDataGenerator\n",
        "from sklearn.preprocessing import LabelEncoder\n",
        "from sklearn.metrics import accuracy_score, f1_score, confusion_matrix\n",
        "from datasets import load_dataset\n",
        "import matplotlib.pyplot as plt\n",
        "import seaborn as sns"
      ]
    },
    {
      "cell_type": "markdown",
      "metadata": {},
      "source": [
        "## Parametri eksperimenta\n",
        "\n",
        "Definišu se osnovni parametri kao što su veličina slike, broj epoha i broj uzoraka koji se koristi iz WikiArt skupa podataka."
      ]
    },
    {
      "cell_type": "code",
      "execution_count": null,
      "metadata": {},
      "outputs": [],
      "source": [
        "MAX_SAMPLES = 20000\n",
        "TOP_N_STYLES = 50 \n",
        "TOP_N_ARTISTS = 40\n",
        "TOP_N_GENRES = 40 \n",
        "IMG_SIZE = 96\n",
        "BATCH_SIZE = 32\n",
        "NUM_EPOCHS = 20\n",
        "early_stop = EarlyStopping(monitor='val_loss', patience=6, restore_best_weights=True)"
      ]
    },
    {
      "cell_type": "markdown",
      "metadata": {},
      "source": [
        "## Učitavanje i podela podataka\n",
        "\n",
        "Koristi se **WikiArt** dataset. Slike se preprocesiraju na $96 \\times 96$, dok se metapodaci (godina, top $40$ umetnika/žanrova) transformišu u numeričke vektore za fuziju. Zadržano je $50$ najčešćih stilova za klasifikaciju. Podaci su podeljeni na trening, validacioni i test skup."
      ]
    },
    {
      "cell_type": "code",
      "execution_count": null,
      "metadata": {},
      "outputs": [],
      "source": [
        "from artstyles import load_data \n",
        "\n",
        "(X_train_img, X_val_img, X_test_img,\n",
        " y_train_cat, y_val_cat, y_test_cat,\n",
        " y_test_enc, le, train_meta, val_meta, test_meta, NUM_CLASSES) = load_data()\n",
        "\n",
        "print(f\"Trening primeri: {len(X_train_img)}\")\n",
        "print(f\"Validacioni primeri {len(X_val_img)}\")\n",
        "print(f\"Test primeri: {len(X_test_img)}\")"
      ]
    },
    {
      "cell_type": "code",
      "execution_count": null,
      "metadata": {},
      "outputs": [],
      "source": [
        "def plot_history(history, model_name):\n",
        "    plt.figure(figsize=(15, 5))\n",
        "    acc_key = 'accuracy' if 'accuracy' in history.history else 'acc'\n",
        "    val_acc_key = 'val_accuracy' if 'val_accuracy' in history.history else 'val_acc'\n",
        "\n",
        "    # Loss\n",
        "    plt.subplot(1, 2, 1)\n",
        "    plt.plot(history.history['loss'], label='Trening Loss')\n",
        "    plt.plot(history.history['val_loss'], label='Validacioni Loss')\n",
        "    plt.title(f'Loss - {model_name}')\n",
        "    plt.xlabel('Epoha')\n",
        "    plt.ylabel('Loss')\n",
        "    plt.legend()\n",
        "\n",
        "    # Accuracy\n",
        "    plt.subplot(1, 2, 2)\n",
        "    plt.plot(history.history[acc_key], label='Trening Accuracy')\n",
        "    plt.plot(history.history[val_acc_key], label='Validacioni Accuracy')\n",
        "    plt.title(f'Accuracy - {model_name}')\n",
        "    plt.xlabel('Epoha')\n",
        "    plt.ylabel('Accuracy')\n",
        "    plt.legend()\n",
        "    plt.show()"
      ]
    },
    {
      "cell_type": "markdown",
      "metadata": {},
      "source": [
        "## Treniranje modela\n",
        "\n",
        "Treniraju se dva modela:\n",
        "1. **Samo CNN (Vizuelni model):** Koristi samo slike\n",
        "2. **Multimodalni model (Fuzija):** Kombinuje slike i metapodatke\n",
        "\n",
        "Za kontrolu *overfittinga* koristi se Augmentacija slika i rani prekid (`EarlyStopping` sa `patience=6`)."
      ]
    },
    {
      "cell_type": "code",
      "execution_count": null,
      "metadata": {},
      "outputs": [],
      "source": [
        "from artstyles import train_models\n",
        "\n",
        "cnn_model, history_cnn, multi_model, history_multi = train_models(\n",
        "    X_train_img, y_train_cat, X_val_img, y_val_cat,\n",
        "    train_meta, val_meta, NUM_CLASSES, BATCH_SIZE, NUM_EPOCHS, early_stop\n",
        ")"
      ]
    },
    {
      "cell_type": "code",
      "execution_count": null,
      "metadata": {},
      "outputs": [],
      "source": [
        "plot_history(history_cnn, \"Samo CNN Model\")\n",
        "plot_history(history_multi, \"Multimodalni Model (Slika + Metapodaci)\")"
      ]
    },
    {
      "cell_type": "markdown",
      "metadata": {},
      "source": [
        "## Evaluacija i prikaz rezultata\n",
        "\n",
        "- Izračunava se tačnost i F1-score za oba modela.\n",
        "- Prikazuje se confusion matrix za bolji model."
      ]
    },
    {
      "cell_type": "code",
      "execution_count": null,
      "metadata": {},
      "outputs": [],
      "source": [
        "from artstyles import evaluate_models\n",
        "\n",
        "results = evaluate_models(\n",
        "    cnn_model, multi_model,\n",
        "    X_test_img, test_meta,\n",
        "    y_test_enc, y_test_cat, le\n",
        ")\n",
        "\n",
        "results"
      ]
    },
    {
      "cell_type": "markdown",
      "metadata": {},
      "source": [
        "# ✅ Zaključak\n",
        "\n",
        "Glavni nalaz ovog eksperimenta je **dramatična superiornost multimodalnog modela** u klasifikaciji umetničkog stila.\n",
        "\n",
        "1. **Samo slike:** Model koji koristi **samo vizuelne podatke (CNN)**, nakon svih optimizacija, postigao je tačnost od samo **$\\approx 21.5\\%$**. Ova niska tačnost (na 50 klasa) ukazuje da su podaci niske rezolucije **nedovoljni** za hvatanje suptilnih vizuelnih karakteristika stila.\n",
        "\n",
        "2. **Metapodaci i slike:** Model koji kombinuje slike i metapodatke (**CNN + Metapodaci**) postigao je tačnost od **$\\approx 40\\%$**. To predstavlja poboljšanje performansi od približno **$19$%**.\n",
        "\n",
        "3. **Rezultat:** Ovaj rezultat snažno dokazuje da su informacije o **umetniku, datumu nastanka i žanru** od kritične važnosti i da su ključne za precizno određivanje stila, efektivno **kompenzujući** nedostatak finih vizuelnih detalja."
      ]
    }
  ],
  "metadata": {
    "accelerator": "GPU",
    "colab": {
      "gpuType": "T4",
      "provenance": []
    },
    "kernelspec": {
      "display_name": "base",
      "language": "python",
      "name": "python3"
    },
    "language_info": {
      "codemirror_mode": {
        "name": "ipython",
        "version": 3
      },
      "file_extension": ".py",
      "mimetype": "text/x-python",
      "name": "python",
      "nbconvert_exporter": "python",
      "pygments_lexer": "ipython3",
      "version": "3.10.12"
    }
  },
  "nbformat": 4,
  "nbformat_minor": 0
}
